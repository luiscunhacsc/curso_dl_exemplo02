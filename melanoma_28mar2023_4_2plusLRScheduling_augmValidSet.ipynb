{
 "cells": [
  {
   "attachments": {},
   "cell_type": "markdown",
   "metadata": {},
   "source": [
    "# Test of updated model with more convolutional layers and batch normalization\n",
    "# *and* rate scheduling"
   ]
  },
  {
   "attachments": {},
   "cell_type": "markdown",
   "metadata": {},
   "source": [
    "We'll be using Keras with TensorFlow backend to build a skin lesion classifier. Let's start by importing the necessary libraries and setting up the directory structure."
   ]
  },
  {
   "cell_type": "code",
   "execution_count": 1,
   "metadata": {},
   "outputs": [],
   "source": [
    "#%pip install tensorflow\n",
    "#%pip install keras\n",
    "\n",
    "from tensorflow.python.client import device_lib\n",
    "print(device_lib.list_local_devices())\n"
   ]
  },
  {
   "attachments": {},
   "cell_type": "markdown",
   "metadata": {},
   "source": [
    "Next, import the necessary libraries:"
   ]
  },
  {
   "cell_type": "code",
   "execution_count": 2,
   "metadata": {},
   "outputs": [],
   "source": [
    "import os\n",
    "import numpy as np\n",
    "import tensorflow as tf\n",
    "import matplotlib.pyplot as plt\n",
    "\n",
    "from tensorflow.keras.preprocessing.image import ImageDataGenerator\n",
    "from tensorflow.keras.models import Sequential\n",
    "from tensorflow.keras.layers import Conv2D, MaxPooling2D\n",
    "from tensorflow.keras.layers import Activation, Dropout, Flatten, Dense\n",
    "from tensorflow.keras.callbacks import ModelCheckpoint\n",
    "from tensorflow.keras.callbacks import EarlyStopping\n",
    "from tensorflow.keras.callbacks import ReduceLROnPlateau\n",
    "from tensorflow.keras.models import load_model\n",
    "from tensorflow.keras.preprocessing.image import ImageDataGenerator\n",
    "from tensorflow.keras import backend as K\n",
    "from sklearn.model_selection import train_test_split\n"
   ]
  },
  {
   "attachments": {},
   "cell_type": "markdown",
   "metadata": {},
   "source": [
    "Now, let's define some parameters and directory paths:"
   ]
  },
  {
   "cell_type": "code",
   "execution_count": 3,
   "metadata": {},
   "outputs": [],
   "source": [
    "img_width, img_height = 224, 224\n",
    "train_data_dir = 'skin_dataset_26mar2023'\n",
    "test_data_dir = 'test_dataset_26mar2023'\n",
    "nb_train_samples = 3297\n",
    "epochs = 50\n",
    "batch_size = 32\n"
   ]
  },
  {
   "cell_type": "code",
   "execution_count": 4,
   "metadata": {},
   "outputs": [],
   "source": [
    "#This code is only needed if the images are all in the same folder\n",
    "#(i.e. not divided into \"benign\" and \"malignant\" subfolders)\n",
    "\n",
    "import os\n",
    "import shutil\n",
    "\n",
    "src_dir = 'skin_dataset_26mar2023'\n",
    "benign_dir = os.path.join(src_dir, 'benign')\n",
    "malignant_dir = os.path.join(src_dir, 'malignant')\n",
    "\n",
    "# Create the subfolders if they don't exist\n",
    "os.makedirs(benign_dir, exist_ok=True)\n",
    "os.makedirs(malignant_dir, exist_ok=True)\n",
    "\n",
    "# Move the benign and malignant images to their respective subfolders\n",
    "for filename in os.listdir(src_dir):\n",
    "    src_path = os.path.join(src_dir, filename)\n",
    "    \n",
    "    if os.path.isfile(src_path):\n",
    "        if filename.startswith('benign'):\n",
    "            shutil.move(src_path, os.path.join(benign_dir, filename))\n",
    "        elif filename.startswith('malignant'):\n",
    "            shutil.move(src_path, os.path.join(malignant_dir, filename))\n",
    "\n",
    "\n",
    "src_dir = 'test_dataset_26mar2023'\n",
    "benign_dir = os.path.join(src_dir, 'benign')\n",
    "malignant_dir = os.path.join(src_dir, 'malignant')\n",
    "\n",
    "# Create the subfolders if they don't exist\n",
    "os.makedirs(benign_dir, exist_ok=True)\n",
    "os.makedirs(malignant_dir, exist_ok=True)\n",
    "\n",
    "# Move the benign and malignant images to their respective subfolders\n",
    "for filename in os.listdir(src_dir):\n",
    "    src_path = os.path.join(src_dir, filename)\n",
    "    \n",
    "    if os.path.isfile(src_path):\n",
    "        if filename.startswith('benign'):\n",
    "            shutil.move(src_path, os.path.join(benign_dir, filename))\n",
    "        elif filename.startswith('malignant'):\n",
    "            shutil.move(src_path, os.path.join(malignant_dir, filename))\n"
   ]
  },
  {
   "attachments": {},
   "cell_type": "markdown",
   "metadata": {},
   "source": [
    "Depending on the image format, you may need to set the input shape for the model:"
   ]
  },
  {
   "cell_type": "code",
   "execution_count": 5,
   "metadata": {},
   "outputs": [],
   "source": [
    "if K.image_data_format() == 'channels_first':\n",
    "    input_shape = (3, img_width, img_height)\n",
    "else:\n",
    "    input_shape = (img_width, img_height, 3)"
   ]
  },
  {
   "attachments": {},
   "cell_type": "markdown",
   "metadata": {},
   "source": [
    "Model architecture using the Keras functional API:"
   ]
  },
  {
   "attachments": {},
   "cell_type": "markdown",
   "metadata": {},
   "source": [
    "Test of updated model with more convolutional layers and batch normalization:"
   ]
  },
  {
   "cell_type": "code",
   "execution_count": 6,
   "metadata": {},
   "outputs": [],
   "source": [
    "from tensorflow.keras.layers import Input\n",
    "from tensorflow.keras.models import Model\n",
    "from tensorflow.keras.layers import BatchNormalization\n",
    "\n",
    "# Define the input layer\n",
    "input_layer = Input(shape=input_shape)\n",
    "\n",
    "# Create the convolutional and pooling layers\n",
    "conv1 = Conv2D(32, (3, 3), activation='relu')(input_layer)\n",
    "bn1 = BatchNormalization()(conv1)\n",
    "pool1 = MaxPooling2D(pool_size=(2, 2))(bn1)\n",
    "\n",
    "conv2 = Conv2D(64, (3, 3), activation='relu')(pool1)\n",
    "bn2 = BatchNormalization()(conv2)\n",
    "pool2 = MaxPooling2D(pool_size=(2, 2))(bn2)\n",
    "\n",
    "conv3 = Conv2D(128, (3, 3), activation='relu')(pool2)\n",
    "bn3 = BatchNormalization()(conv3)\n",
    "pool3 = MaxPooling2D(pool_size=(2, 2))(bn3)\n",
    "\n",
    "conv4 = Conv2D(256, (3, 3), activation='relu')(pool3)\n",
    "bn4 = BatchNormalization()(conv4)\n",
    "pool4 = MaxPooling2D(pool_size=(2, 2))(bn4)\n",
    "\n",
    "conv5 = Conv2D(512, (3, 3), activation='relu')(pool4)\n",
    "bn5 = BatchNormalization()(conv5)\n",
    "pool5 = MaxPooling2D(pool_size=(2, 2))(bn5)\n",
    "\n",
    "# Flatten the output of the last pooling layer\n",
    "flat = Flatten()(pool5)\n",
    "\n",
    "# Create the dense layers\n",
    "dense1 = Dense(64, activation='relu')(flat)\n",
    "dropout = Dropout(0.5)(dense1)\n",
    "output_layer = Dense(1, activation='sigmoid')(dropout)\n",
    "\n",
    "# Create the model\n",
    "model = Model(inputs=input_layer, outputs=output_layer)\n",
    "# Compile the model\n",
    "model.compile(loss='binary_crossentropy',\n",
    "              optimizer='adam',\n",
    "              metrics=['accuracy'])\n"
   ]
  },
  {
   "attachments": {},
   "cell_type": "markdown",
   "metadata": {},
   "source": [
    "Training, validation and test data sets generators\n",
    "Note that you can control for **data augmentation** usage\n",
    "Data augmentation is only done in the training data set\n",
    "You control that option by setting __use_data_augmentation__ to True or False"
   ]
  },
  {
   "cell_type": "code",
   "execution_count": 7,
   "metadata": {},
   "outputs": [
    {
     "name": "stdout",
     "output_type": "stream",
     "text": [
      "Using Directories:\n",
      "Train: skin_dataset_26mar2023\n",
      "Test: test_dataset_26mar2023\n",
      "Found 2478 images belonging to 2 classes.\n",
      "Found 619 images belonging to 2 classes.\n",
      "Found 200 images belonging to 2 classes.\n"
     ]
    }
   ],
   "source": [
    "print(\"Using Directories:\")\n",
    "print(\"Train:\", train_data_dir)\n",
    "print(\"Test:\", test_data_dir)\n",
    "\n",
    "use_data_augmentation = True\n",
    "\n",
    "if not use_data_augmentation:\n",
    "    train_datagen = ImageDataGenerator(rescale=1. / 255, validation_split=0.2)\n",
    "else:\n",
    "    train_datagen = ImageDataGenerator(\n",
    "        rescale=1. / 255,\n",
    "        rotation_range=40,\n",
    "        width_shift_range=0.2,\n",
    "        height_shift_range=0.2,\n",
    "        shear_range=0.2,\n",
    "        zoom_range=0.2,\n",
    "        horizontal_flip=True,\n",
    "        brightness_range=[0.5, 1.5],\n",
    "        channel_shift_range=20,\n",
    "        fill_mode='nearest',\n",
    "        validation_split=0.2)\n",
    "\n",
    "# Training generator\n",
    "train_generator = train_datagen.flow_from_directory(\n",
    "    train_data_dir,\n",
    "    target_size=(img_width, img_height),\n",
    "    batch_size=batch_size,\n",
    "    class_mode='binary',\n",
    "    subset='training')\n",
    "\n",
    "# Validation generator (augmented)\n",
    "validation_datagen = train_datagen\n",
    "\n",
    "validation_generator = validation_datagen.flow_from_directory(\n",
    "    train_data_dir,\n",
    "    target_size=(img_width, img_height),\n",
    "    batch_size=batch_size,\n",
    "    class_mode='binary',\n",
    "    subset='validation')\n",
    "\n",
    "# Test data generator (non-augmented)\n",
    "test_datagen = ImageDataGenerator(rescale=1. / 255)\n",
    "\n",
    "test_generator = test_datagen.flow_from_directory(\n",
    "    test_data_dir,\n",
    "    target_size=(img_width,img_height),\n",
    "    batch_size=batch_size,\n",
    "    class_mode='binary',\n",
    "    shuffle=False)\n"
   ]
  },
  {
   "attachments": {},
   "cell_type": "markdown",
   "metadata": {},
   "source": [
    "Evaluate the model on the test set:"
   ]
  },
  {
   "cell_type": "code",
   "execution_count": 8,
   "metadata": {},
   "outputs": [
    {
     "name": "stdout",
     "output_type": "stream",
     "text": [
      "7/7 [==============================] - 5s 57ms/step - loss: 0.6932 - accuracy: 0.5000\n",
      "Test accuracy: 50.00%\n"
     ]
    }
   ],
   "source": [
    "test_scores = model.evaluate(test_generator, verbose=1)\n",
    "print(\"Test accuracy: %.2f%%\" % (test_scores[1] * 100))\n"
   ]
  },
  {
   "attachments": {},
   "cell_type": "markdown",
   "metadata": {},
   "source": [
    "Create a ModelCheckpoint instance and specify the file path, the metric to monitor, and the mode (maximize or minimize the metric):\n",
    "\n",
    "This code will save the best model based on the validation accuracy during training. \n",
    "The save_best_only=True argument ensures that only the model with the best performance so far is saved. \n",
    "Note that the file \"best_skin_lesion_classifier_28mar_4.h5\" will be overwritten whenever a better model is found during training. \n",
    "The verbose=1 argument provides updates whenever a new best model is saved."
   ]
  },
  {
   "cell_type": "code",
   "execution_count": 9,
   "metadata": {},
   "outputs": [],
   "source": [
    "checkpoint_filepath = 'best_skin_lesion_classifier_28mar_4.h5'\n",
    "model_checkpoint = ModelCheckpoint(\n",
    "    filepath=checkpoint_filepath,\n",
    "    monitor='val_accuracy',\n",
    "    mode='max',\n",
    "    save_best_only=True,\n",
    "    verbose=1)"
   ]
  },
  {
   "attachments": {},
   "cell_type": "markdown",
   "metadata": {},
   "source": [
    "This callback will monitor a specified metric (usually validation loss or accuracy) and stop training when the metric \n",
    "does not improve for a given number of consecutive epochs. This helps to avoid overfitting and reduce training time."
   ]
  },
  {
   "cell_type": "code",
   "execution_count": 10,
   "metadata": {},
   "outputs": [],
   "source": [
    "early_stopping = EarlyStopping(monitor='val_loss', patience=10, mode='min', verbose=1)\n"
   ]
  },
  {
   "attachments": {},
   "cell_type": "markdown",
   "metadata": {},
   "source": [
    "Add learning rate scheduling (note that the patience for early stopping has to be changes in a way compatible to the patience in the LRS callback):"
   ]
  },
  {
   "cell_type": "code",
   "execution_count": 11,
   "metadata": {},
   "outputs": [],
   "source": [
    "reduce_lr = ReduceLROnPlateau(monitor='val_loss', factor=0.1, patience=3, verbose=1, min_lr=1e-6)\n"
   ]
  },
  {
   "attachments": {},
   "cell_type": "markdown",
   "metadata": {},
   "source": [
    "Train the model using the fit method and retain the training history:"
   ]
  },
  {
   "cell_type": "code",
   "execution_count": 12,
   "metadata": {},
   "outputs": [
    {
     "name": "stdout",
     "output_type": "stream",
     "text": [
      "Epoch 1/50\n",
      "77/77 [==============================] - ETA: 0s - loss: 1.0518 - accuracy: 0.6819\n",
      "Epoch 1: val_accuracy improved from -inf to 0.53618, saving model to best_skin_lesion_classifier.h5\n",
      "77/77 [==============================] - 31s 375ms/step - loss: 1.0518 - accuracy: 0.6819 - val_loss: 0.6901 - val_accuracy: 0.5362 - lr: 0.0010\n",
      "Epoch 2/50\n",
      "77/77 [==============================] - ETA: 0s - loss: 0.6705 - accuracy: 0.6962\n",
      "Epoch 2: val_accuracy improved from 0.53618 to 0.54934, saving model to best_skin_lesion_classifier.h5\n",
      "77/77 [==============================] - 29s 375ms/step - loss: 0.6705 - accuracy: 0.6962 - val_loss: 0.8453 - val_accuracy: 0.5493 - lr: 0.0010\n",
      "Epoch 3/50\n",
      "77/77 [==============================] - ETA: 0s - loss: 0.5520 - accuracy: 0.7322\n",
      "Epoch 3: val_accuracy improved from 0.54934 to 0.55263, saving model to best_skin_lesion_classifier.h5\n",
      "77/77 [==============================] - 29s 375ms/step - loss: 0.5520 - accuracy: 0.7322 - val_loss: 0.7347 - val_accuracy: 0.5526 - lr: 0.0010\n",
      "Epoch 4/50\n",
      "77/77 [==============================] - ETA: 0s - loss: 0.5089 - accuracy: 0.7502\n",
      "Epoch 4: val_accuracy improved from 0.55263 to 0.55428, saving model to best_skin_lesion_classifier.h5\n",
      "\n",
      "Epoch 4: ReduceLROnPlateau reducing learning rate to 0.00010000000474974513.\n",
      "77/77 [==============================] - 29s 373ms/step - loss: 0.5089 - accuracy: 0.7502 - val_loss: 1.1541 - val_accuracy: 0.5543 - lr: 0.0010\n",
      "Epoch 5/50\n",
      "77/77 [==============================] - ETA: 0s - loss: 0.4677 - accuracy: 0.7682\n",
      "Epoch 5: val_accuracy improved from 0.55428 to 0.56250, saving model to best_skin_lesion_classifier.h5\n",
      "77/77 [==============================] - 29s 371ms/step - loss: 0.4677 - accuracy: 0.7682 - val_loss: 0.9662 - val_accuracy: 0.5625 - lr: 1.0000e-04\n",
      "Epoch 6/50\n",
      "77/77 [==============================] - ETA: 0s - loss: 0.4509 - accuracy: 0.7813\n",
      "Epoch 6: val_accuracy improved from 0.56250 to 0.67270, saving model to best_skin_lesion_classifier.h5\n",
      "77/77 [==============================] - 29s 374ms/step - loss: 0.4509 - accuracy: 0.7813 - val_loss: 0.6060 - val_accuracy: 0.6727 - lr: 1.0000e-04\n",
      "Epoch 7/50\n",
      "77/77 [==============================] - ETA: 0s - loss: 0.4546 - accuracy: 0.7764\n",
      "Epoch 7: val_accuracy improved from 0.67270 to 0.74178, saving model to best_skin_lesion_classifier.h5\n",
      "77/77 [==============================] - 29s 381ms/step - loss: 0.4546 - accuracy: 0.7764 - val_loss: 0.5064 - val_accuracy: 0.7418 - lr: 1.0000e-04\n",
      "Epoch 8/50\n",
      "77/77 [==============================] - ETA: 0s - loss: 0.4422 - accuracy: 0.7813\n",
      "Epoch 8: val_accuracy improved from 0.74178 to 0.76316, saving model to best_skin_lesion_classifier.h5\n",
      "77/77 [==============================] - 29s 377ms/step - loss: 0.4422 - accuracy: 0.7813 - val_loss: 0.4371 - val_accuracy: 0.7632 - lr: 1.0000e-04\n",
      "Epoch 9/50\n",
      "77/77 [==============================] - ETA: 0s - loss: 0.4401 - accuracy: 0.7837\n",
      "Epoch 9: val_accuracy improved from 0.76316 to 0.79605, saving model to best_skin_lesion_classifier.h5\n",
      "77/77 [==============================] - 29s 376ms/step - loss: 0.4401 - accuracy: 0.7837 - val_loss: 0.3922 - val_accuracy: 0.7961 - lr: 1.0000e-04\n",
      "Epoch 10/50\n",
      "77/77 [==============================] - ETA: 0s - loss: 0.4425 - accuracy: 0.7882\n",
      "Epoch 10: val_accuracy did not improve from 0.79605\n",
      "77/77 [==============================] - 29s 375ms/step - loss: 0.4425 - accuracy: 0.7882 - val_loss: 0.3948 - val_accuracy: 0.7895 - lr: 1.0000e-04\n",
      "Epoch 11/50\n",
      "77/77 [==============================] - ETA: 0s - loss: 0.4308 - accuracy: 0.7886\n",
      "Epoch 11: val_accuracy improved from 0.79605 to 0.82730, saving model to best_skin_lesion_classifier.h5\n",
      "77/77 [==============================] - 29s 375ms/step - loss: 0.4308 - accuracy: 0.7886 - val_loss: 0.3593 - val_accuracy: 0.8273 - lr: 1.0000e-04\n",
      "Epoch 12/50\n",
      "77/77 [==============================] - ETA: 0s - loss: 0.4302 - accuracy: 0.7935\n",
      "Epoch 12: val_accuracy did not improve from 0.82730\n",
      "77/77 [==============================] - 29s 375ms/step - loss: 0.4302 - accuracy: 0.7935 - val_loss: 0.3643 - val_accuracy: 0.8125 - lr: 1.0000e-04\n",
      "Epoch 13/50\n",
      "77/77 [==============================] - ETA: 0s - loss: 0.4239 - accuracy: 0.8046\n",
      "Epoch 13: val_accuracy did not improve from 0.82730\n",
      "77/77 [==============================] - 29s 374ms/step - loss: 0.4239 - accuracy: 0.8046 - val_loss: 0.3616 - val_accuracy: 0.8158 - lr: 1.0000e-04\n",
      "Epoch 14/50\n",
      "77/77 [==============================] - ETA: 0s - loss: 0.4386 - accuracy: 0.7911\n",
      "Epoch 14: val_accuracy improved from 0.82730 to 0.82895, saving model to best_skin_lesion_classifier.h5\n",
      "77/77 [==============================] - 29s 377ms/step - loss: 0.4386 - accuracy: 0.7911 - val_loss: 0.3428 - val_accuracy: 0.8289 - lr: 1.0000e-04\n",
      "Epoch 15/50\n",
      "77/77 [==============================] - ETA: 0s - loss: 0.4174 - accuracy: 0.7980\n",
      "Epoch 15: val_accuracy improved from 0.82895 to 0.83553, saving model to best_skin_lesion_classifier.h5\n",
      "77/77 [==============================] - 29s 381ms/step - loss: 0.4174 - accuracy: 0.7980 - val_loss: 0.3476 - val_accuracy: 0.8355 - lr: 1.0000e-04\n",
      "Epoch 16/50\n",
      "77/77 [==============================] - ETA: 0s - loss: 0.4107 - accuracy: 0.7989\n",
      "Epoch 16: val_accuracy did not improve from 0.83553\n",
      "77/77 [==============================] - 29s 376ms/step - loss: 0.4107 - accuracy: 0.7989 - val_loss: 0.3460 - val_accuracy: 0.8257 - lr: 1.0000e-04\n",
      "Epoch 17/50\n",
      "77/77 [==============================] - ETA: 0s - loss: 0.3998 - accuracy: 0.8136\n",
      "Epoch 17: val_accuracy did not improve from 0.83553\n",
      "77/77 [==============================] - 29s 377ms/step - loss: 0.3998 - accuracy: 0.8136 - val_loss: 0.3377 - val_accuracy: 0.8322 - lr: 1.0000e-04\n",
      "Epoch 18/50\n",
      "77/77 [==============================] - ETA: 0s - loss: 0.4204 - accuracy: 0.7952\n",
      "Epoch 18: val_accuracy did not improve from 0.83553\n",
      "77/77 [==============================] - 29s 377ms/step - loss: 0.4204 - accuracy: 0.7952 - val_loss: 0.3447 - val_accuracy: 0.8174 - lr: 1.0000e-04\n",
      "Epoch 19/50\n",
      "77/77 [==============================] - ETA: 0s - loss: 0.4152 - accuracy: 0.8015\n",
      "Epoch 19: val_accuracy did not improve from 0.83553\n",
      "77/77 [==============================] - 29s 380ms/step - loss: 0.4152 - accuracy: 0.8015 - val_loss: 0.3577 - val_accuracy: 0.8207 - lr: 1.0000e-04\n",
      "Epoch 20/50\n",
      "77/77 [==============================] - ETA: 0s - loss: 0.4102 - accuracy: 0.8017\n",
      "Epoch 20: val_accuracy did not improve from 0.83553\n",
      "\n",
      "Epoch 20: ReduceLROnPlateau reducing learning rate to 1.0000000474974514e-05.\n",
      "77/77 [==============================] - 29s 379ms/step - loss: 0.4102 - accuracy: 0.8017 - val_loss: 0.3502 - val_accuracy: 0.8224 - lr: 1.0000e-04\n",
      "Epoch 21/50\n",
      "77/77 [==============================] - ETA: 0s - loss: 0.4017 - accuracy: 0.8025\n",
      "Epoch 21: val_accuracy did not improve from 0.83553\n",
      "77/77 [==============================] - 29s 381ms/step - loss: 0.4017 - accuracy: 0.8025 - val_loss: 0.3349 - val_accuracy: 0.8289 - lr: 1.0000e-05\n",
      "Epoch 22/50\n",
      "77/77 [==============================] - ETA: 0s - loss: 0.4014 - accuracy: 0.8091\n",
      "Epoch 22: val_accuracy did not improve from 0.83553\n",
      "77/77 [==============================] - 29s 379ms/step - loss: 0.4014 - accuracy: 0.8091 - val_loss: 0.3384 - val_accuracy: 0.8207 - lr: 1.0000e-05\n",
      "Epoch 23/50\n",
      "77/77 [==============================] - ETA: 0s - loss: 0.4007 - accuracy: 0.7997\n",
      "Epoch 23: val_accuracy did not improve from 0.83553\n",
      "77/77 [==============================] - 29s 379ms/step - loss: 0.4007 - accuracy: 0.7997 - val_loss: 0.3380 - val_accuracy: 0.8289 - lr: 1.0000e-05\n",
      "Epoch 24/50\n",
      "77/77 [==============================] - ETA: 0s - loss: 0.4031 - accuracy: 0.8034\n",
      "Epoch 24: val_accuracy did not improve from 0.83553\n",
      "\n",
      "Epoch 24: ReduceLROnPlateau reducing learning rate to 1.0000000656873453e-06.\n",
      "77/77 [==============================] - 29s 379ms/step - loss: 0.4031 - accuracy: 0.8034 - val_loss: 0.3372 - val_accuracy: 0.8289 - lr: 1.0000e-05\n",
      "Epoch 25/50\n",
      "77/77 [==============================] - ETA: 0s - loss: 0.3932 - accuracy: 0.8095\n",
      "Epoch 25: val_accuracy did not improve from 0.83553\n",
      "77/77 [==============================] - 29s 380ms/step - loss: 0.3932 - accuracy: 0.8095 - val_loss: 0.3334 - val_accuracy: 0.8273 - lr: 1.0000e-06\n",
      "Epoch 26/50\n",
      "77/77 [==============================] - ETA: 0s - loss: 0.4009 - accuracy: 0.8078\n",
      "Epoch 26: val_accuracy did not improve from 0.83553\n",
      "77/77 [==============================] - 30s 385ms/step - loss: 0.4009 - accuracy: 0.8078 - val_loss: 0.3296 - val_accuracy: 0.8322 - lr: 1.0000e-06\n",
      "Epoch 27/50\n",
      "77/77 [==============================] - ETA: 0s - loss: 0.4050 - accuracy: 0.8144\n",
      "Epoch 27: val_accuracy did not improve from 0.83553\n",
      "77/77 [==============================] - 29s 380ms/step - loss: 0.4050 - accuracy: 0.8144 - val_loss: 0.3345 - val_accuracy: 0.8306 - lr: 1.0000e-06\n",
      "Epoch 28/50\n",
      "77/77 [==============================] - ETA: 0s - loss: 0.4070 - accuracy: 0.8029\n",
      "Epoch 28: val_accuracy did not improve from 0.83553\n",
      "77/77 [==============================] - 29s 382ms/step - loss: 0.4070 - accuracy: 0.8029 - val_loss: 0.3342 - val_accuracy: 0.8289 - lr: 1.0000e-06\n",
      "Epoch 29/50\n",
      "77/77 [==============================] - ETA: 0s - loss: 0.3977 - accuracy: 0.7964\n",
      "Epoch 29: val_accuracy did not improve from 0.83553\n",
      "77/77 [==============================] - 29s 379ms/step - loss: 0.3977 - accuracy: 0.7964 - val_loss: 0.3273 - val_accuracy: 0.8306 - lr: 1.0000e-06\n",
      "Epoch 30/50\n",
      "77/77 [==============================] - ETA: 0s - loss: 0.3972 - accuracy: 0.8001\n",
      "Epoch 30: val_accuracy did not improve from 0.83553\n",
      "77/77 [==============================] - 29s 378ms/step - loss: 0.3972 - accuracy: 0.8001 - val_loss: 0.3388 - val_accuracy: 0.8257 - lr: 1.0000e-06\n",
      "Epoch 31/50\n",
      "77/77 [==============================] - ETA: 0s - loss: 0.4017 - accuracy: 0.8087\n",
      "Epoch 31: val_accuracy did not improve from 0.83553\n",
      "77/77 [==============================] - 29s 379ms/step - loss: 0.4017 - accuracy: 0.8087 - val_loss: 0.3344 - val_accuracy: 0.8289 - lr: 1.0000e-06\n",
      "Epoch 32/50\n",
      "77/77 [==============================] - ETA: 0s - loss: 0.4062 - accuracy: 0.8070\n",
      "Epoch 32: val_accuracy did not improve from 0.83553\n",
      "\n",
      "Epoch 32: ReduceLROnPlateau reducing learning rate to 1e-06.\n",
      "77/77 [==============================] - 29s 375ms/step - loss: 0.4062 - accuracy: 0.8070 - val_loss: 0.3368 - val_accuracy: 0.8257 - lr: 1.0000e-06\n",
      "Epoch 33/50\n",
      "77/77 [==============================] - ETA: 0s - loss: 0.3942 - accuracy: 0.8046\n",
      "Epoch 33: val_accuracy did not improve from 0.83553\n",
      "77/77 [==============================] - 29s 375ms/step - loss: 0.3942 - accuracy: 0.8046 - val_loss: 0.3372 - val_accuracy: 0.8306 - lr: 1.0000e-06\n",
      "Epoch 34/50\n",
      "77/77 [==============================] - ETA: 0s - loss: 0.3913 - accuracy: 0.8119\n",
      "Epoch 34: val_accuracy did not improve from 0.83553\n",
      "77/77 [==============================] - 29s 372ms/step - loss: 0.3913 - accuracy: 0.8119 - val_loss: 0.3390 - val_accuracy: 0.8289 - lr: 1.0000e-06\n",
      "Epoch 35/50\n",
      "77/77 [==============================] - ETA: 0s - loss: 0.3996 - accuracy: 0.8025\n",
      "Epoch 35: val_accuracy did not improve from 0.83553\n",
      "77/77 [==============================] - 29s 374ms/step - loss: 0.3996 - accuracy: 0.8025 - val_loss: 0.3408 - val_accuracy: 0.8257 - lr: 1.0000e-06\n",
      "Epoch 36/50\n",
      "77/77 [==============================] - ETA: 0s - loss: 0.4002 - accuracy: 0.8042\n",
      "Epoch 36: val_accuracy did not improve from 0.83553\n",
      "77/77 [==============================] - 29s 371ms/step - loss: 0.4002 - accuracy: 0.8042 - val_loss: 0.3337 - val_accuracy: 0.8306 - lr: 1.0000e-06\n",
      "Epoch 37/50\n",
      "77/77 [==============================] - ETA: 0s - loss: 0.4094 - accuracy: 0.7993\n",
      "Epoch 37: val_accuracy did not improve from 0.83553\n",
      "77/77 [==============================] - 29s 375ms/step - loss: 0.4094 - accuracy: 0.7993 - val_loss: 0.3382 - val_accuracy: 0.8289 - lr: 1.0000e-06\n",
      "Epoch 38/50\n",
      "77/77 [==============================] - ETA: 0s - loss: 0.3845 - accuracy: 0.8213\n",
      "Epoch 38: val_accuracy did not improve from 0.83553\n",
      "77/77 [==============================] - 30s 386ms/step - loss: 0.3845 - accuracy: 0.8213 - val_loss: 0.3399 - val_accuracy: 0.8257 - lr: 1.0000e-06\n",
      "Epoch 39/50\n",
      "77/77 [==============================] - ETA: 0s - loss: 0.3998 - accuracy: 0.8144\n",
      "Epoch 39: val_accuracy did not improve from 0.83553\n",
      "77/77 [==============================] - 29s 379ms/step - loss: 0.3998 - accuracy: 0.8144 - val_loss: 0.3322 - val_accuracy: 0.8322 - lr: 1.0000e-06\n",
      "Epoch 39: early stopping\n"
     ]
    }
   ],
   "source": [
    "steps_per_epoch = train_generator.samples // train_generator.batch_size\n",
    "validation_steps = validation_generator.samples // validation_generator.batch_size\n",
    "\n",
    "history = model.fit(\n",
    "    train_generator,\n",
    "    steps_per_epoch=steps_per_epoch,\n",
    "    epochs=epochs,\n",
    "    validation_data=validation_generator,\n",
    "    validation_steps=validation_steps,\n",
    "    callbacks=[model_checkpoint, early_stopping, reduce_lr])\n"
   ]
  },
  {
   "attachments": {},
   "cell_type": "markdown",
   "metadata": {},
   "source": [
    "Evaluate the model on the test set:"
   ]
  },
  {
   "cell_type": "code",
   "execution_count": 13,
   "metadata": {},
   "outputs": [
    {
     "name": "stdout",
     "output_type": "stream",
     "text": [
      "7/7 [==============================] - 0s 41ms/step - loss: 0.3361 - accuracy: 0.8700\n",
      "Test accuracy: 87.00%\n"
     ]
    }
   ],
   "source": [
    "test_scores = model.evaluate(test_generator, verbose=1)\n",
    "print(\"Test accuracy: %.2f%%\" % (test_scores[1] * 100))\n"
   ]
  },
  {
   "attachments": {},
   "cell_type": "markdown",
   "metadata": {},
   "source": [
    "Evaluate the model on the validation and test sets:"
   ]
  },
  {
   "cell_type": "code",
   "execution_count": 14,
   "metadata": {},
   "outputs": [
    {
     "name": "stdout",
     "output_type": "stream",
     "text": [
      "20/20 [==============================] - 1s 55ms/step - loss: 0.3386 - accuracy: 0.8255\n",
      "Validation accuracy: 82.55%\n",
      "7/7 [==============================] - 0s 40ms/step - loss: 0.3361 - accuracy: 0.8700\n",
      "Test accuracy: 87.00%\n"
     ]
    }
   ],
   "source": [
    "# Validation set\n",
    "validation_scores = model.evaluate(validation_generator, verbose=1)\n",
    "print(\"Validation accuracy: %.2f%%\" % (validation_scores[1] * 100))\n",
    "\n",
    "# Test set\n",
    "test_scores = model.evaluate(test_generator, verbose=1)\n",
    "print(\"Test accuracy: %.2f%%\" % (test_scores[1] * 100))"
   ]
  },
  {
   "attachments": {},
   "cell_type": "markdown",
   "metadata": {},
   "source": [
    "Make predictions and compare them to the true labels:"
   ]
  },
  {
   "cell_type": "code",
   "execution_count": 15,
   "metadata": {},
   "outputs": [],
   "source": [
    "# Predictions for test set\n",
    "predictions = model.predict(test_generator)\n",
    "predicted_classes = np.round(predictions)  # Round predictions to obtain class labels\n",
    "\n",
    "# Get true labels\n",
    "true_classes = test_generator.classes\n",
    "\n",
    "# Compare predicted_classes and\n"
   ]
  },
  {
   "attachments": {},
   "cell_type": "markdown",
   "metadata": {},
   "source": [
    "With this implementation, you can train your model, and the best version will be saved based on the highest validation accuracy observed during training. \n",
    "Once the training is finished, you can load the best model using the following code:"
   ]
  },
  {
   "cell_type": "code",
   "execution_count": 16,
   "metadata": {},
   "outputs": [],
   "source": [
    "from tensorflow.keras.models import load_model\n",
    "\n",
    "best_model = load_model('best_skin_lesion_classifier_28mar_4.h5')\n"
   ]
  },
  {
   "attachments": {},
   "cell_type": "markdown",
   "metadata": {},
   "source": [
    "You can then evaluate the performance of the best model on the test set:"
   ]
  },
  {
   "cell_type": "code",
   "execution_count": 17,
   "metadata": {},
   "outputs": [
    {
     "name": "stdout",
     "output_type": "stream",
     "text": [
      "7/7 [==============================] - 0s 40ms/step - loss: 0.3356 - accuracy: 0.8700\n",
      "Test accuracy: 87.00%\n"
     ]
    }
   ],
   "source": [
    "test_scores = best_model.evaluate(test_generator, verbose=1)\n",
    "print(\"Test accuracy: %.2f%%\" % (test_scores[1] * 100))\n"
   ]
  },
  {
   "attachments": {},
   "cell_type": "markdown",
   "metadata": {},
   "source": [
    "Plot training history:"
   ]
  },
  {
   "cell_type": "code",
   "execution_count": 18,
   "metadata": {},
   "outputs": [
    {
     "data": {
      "image/png": "[encoded data removed]",
      "text/plain": [
       "<Figure size 432x288 with 1 Axes>"
      ]
     },
     "metadata": {
      "needs_background": "light"
     },
     "output_type": "display_data"
    },
    {
     "data": {
      "image/png": "[encoded data removed]",
      "text/plain": [
       "<Figure size 432x288 with 1 Axes>"
      ]
     },
     "metadata": {
      "needs_background": "light"
     },
     "output_type": "display_data"
    }
   ],
   "source": [
    "import matplotlib.pyplot as plt\n",
    "\n",
    "def plot_training_history(history):\n",
    "    # Plot training & validation accuracy values\n",
    "    plt.figure()\n",
    "    plt.plot(history.history['accuracy'])\n",
    "    plt.plot(history.history['val_accuracy'])\n",
    "    plt.title('Model accuracy')\n",
    "    plt.ylabel('Accuracy', color='white')\n",
    "    plt.xlabel('Epoch', color='white')\n",
    "    plt.legend(['Train', 'Validation'], loc='upper left')\n",
    "    plt.tick_params(axis='both', colors='white')  # Added this line\n",
    "    plt.show()\n",
    "\n",
    "    # Plot training & validation loss values\n",
    "    plt.figure()\n",
    "    plt.plot(history.history['loss'])\n",
    "    plt.plot(history.history['val_loss'])\n",
    "    plt.title('Model loss')\n",
    "    plt.ylabel('Loss', color='white')\n",
    "    plt.xlabel('Epoch', color='white')\n",
    "    plt.legend(['Train', 'Validation'], loc='upper left')\n",
    "    plt.tick_params(axis='both', colors='white')  # Added this line\n",
    "    plt.show()\n",
    "\n",
    "plot_training_history(history)\n",
    "\n"
   ]
  }
 ],
 "metadata": {
  "kernelspec": {
   "display_name": "AutoKeras",
   "language": "python",
   "name": "python3"
  },
  "language_info": {
   "codemirror_mode": {
    "name": "ipython",
    "version": 3
   },
   "file_extension": ".py",
   "mimetype": "text/x-python",
   "name": "python",
   "nbconvert_exporter": "python",
   "pygments_lexer": "ipython3",
   "version": "3.10.1"
  },
  "orig_nbformat": 4
 },
 "nbformat": 4,
 "nbformat_minor": 2
}
